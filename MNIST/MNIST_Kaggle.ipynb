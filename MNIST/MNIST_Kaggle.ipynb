{
  "nbformat": 4,
  "nbformat_minor": 0,
  "metadata": {
    "colab": {
      "name": "MNIST-Kaggle.ipynb",
      "version": "0.3.2",
      "provenance": []
    },
    "kernelspec": {
      "name": "python3",
      "display_name": "Python 3"
    },
    "accelerator": "GPU"
  },
  "cells": [
    {
      "cell_type": "code",
      "metadata": {
        "id": "bWSQl4_vllsU",
        "colab_type": "code",
        "colab": {}
      },
      "source": [
        "!pip install tensorflow-gpu"
      ],
      "execution_count": 0,
      "outputs": []
    },
    {
      "cell_type": "code",
      "metadata": {
        "id": "v5GiOFZeh1LR",
        "colab_type": "code",
        "colab": {
          "base_uri": "https://localhost:8080/",
          "height": 435
        },
        "outputId": "aac74724-3246-4e5e-c982-601e87c2e1ed"
      },
      "source": [
        "# save the final model to file\n",
        "from keras.datasets import mnist\n",
        "from keras.utils import to_categorical\n",
        "from keras.models import Sequential\n",
        "from keras.layers import Conv2D\n",
        "from keras.layers import MaxPooling2D\n",
        "from keras.layers import Dense\n",
        "from keras.layers import Flatten,Dropout\n",
        "from keras.optimizers import SGD\n",
        "\n",
        "# load train and test dataset\n",
        "def load_dataset():\n",
        "\t# load dataset\n",
        "\t(trainX, trainY), (testX, testY) = mnist.load_data()\n",
        "\t# reshape dataset to have a single channel\n",
        "\ttrainX = trainX.reshape((trainX.shape[0], 28, 28, 1))\n",
        "\ttestX = testX.reshape((testX.shape[0], 28, 28, 1))\n",
        "\t# one hot encode target values\n",
        "\ttrainY = to_categorical(trainY)\n",
        "\ttestY = to_categorical(testY)\n",
        "\treturn trainX, trainY, testX, testY\n",
        "\n",
        "# scale pixels\n",
        "def prep_pixels(train, test):\n",
        "\t# convert from integers to floats\n",
        "\ttrain_norm = train.astype('float32')\n",
        "\ttest_norm = test.astype('float32')\n",
        "\t# normalize to range 0-1\n",
        "\ttrain_norm = train_norm / 255.0\n",
        "\ttest_norm = test_norm / 255.0\n",
        "\t# return normalized images\n",
        "\treturn train_norm, test_norm\n",
        "\n",
        "# define cnn model\n",
        "def define_model():\n",
        "  model = Sequential()\n",
        "  model.add(Conv2D(32, (3, 3), activation='relu', kernel_initializer='he_uniform', input_shape=(28, 28, 1)))\n",
        "  model.add(MaxPooling2D((2, 2)))\n",
        "  model.add(Dropout(0.3))\n",
        "  model.add(Flatten())\n",
        "  model.add(Dense(100, activation='relu', kernel_initializer='he_uniform'))\n",
        "  model.add(Dropout(0.3))\n",
        "  model.add(Dense(10, activation='softmax'))\n",
        "\t# compile model\n",
        "  opt = SGD(lr=0.01, momentum=0.9)\n",
        "  model.compile(optimizer=opt, loss='categorical_crossentropy', metrics=['accuracy'])\n",
        "  return model\n",
        "\n",
        "# run the test harness for evaluating a model\n",
        "def run_test_harness():\n",
        "\t# load dataset\n",
        "\ttrainX, trainY, testX, testY = load_dataset()\n",
        "\t# prepare pixel data\n",
        "\ttrainX, testX = prep_pixels(trainX, testX)\n",
        "\t# define model\n",
        "\tmodel = define_model()\n",
        "\t# fit model\n",
        "\tmodel.fit(trainX, trainY, epochs=10, batch_size=32, verbose=1)\n",
        "\t# save model\n",
        "\tmodel.save('final_model.h5')\n",
        "\n",
        "# entry point, run the test harness\n",
        "run_test_harness()"
      ],
      "execution_count": 6,
      "outputs": [
        {
          "output_type": "stream",
          "text": [
            "W0622 05:26:01.524224 140258938906496 deprecation.py:506] From /usr/local/lib/python3.6/dist-packages/keras/backend/tensorflow_backend.py:3445: calling dropout (from tensorflow.python.ops.nn_ops) with keep_prob is deprecated and will be removed in a future version.\n",
            "Instructions for updating:\n",
            "Please use `rate` instead of `keep_prob`. Rate should be set to `rate = 1 - keep_prob`.\n"
          ],
          "name": "stderr"
        },
        {
          "output_type": "stream",
          "text": [
            "Epoch 1/10\n",
            "60000/60000 [==============================] - 8s 132us/step - loss: 0.2521 - acc: 0.9238\n",
            "Epoch 2/10\n",
            "60000/60000 [==============================] - 7s 124us/step - loss: 0.1107 - acc: 0.9659\n",
            "Epoch 3/10\n",
            "60000/60000 [==============================] - 7s 124us/step - loss: 0.0833 - acc: 0.9745\n",
            "Epoch 4/10\n",
            "60000/60000 [==============================] - 8s 127us/step - loss: 0.0681 - acc: 0.9792\n",
            "Epoch 5/10\n",
            "60000/60000 [==============================] - 8s 125us/step - loss: 0.0581 - acc: 0.9821\n",
            "Epoch 6/10\n",
            "60000/60000 [==============================] - 7s 123us/step - loss: 0.0499 - acc: 0.9838\n",
            "Epoch 7/10\n",
            "60000/60000 [==============================] - 7s 123us/step - loss: 0.0468 - acc: 0.9853\n",
            "Epoch 8/10\n",
            "60000/60000 [==============================] - 7s 122us/step - loss: 0.0429 - acc: 0.9860\n",
            "Epoch 9/10\n",
            "60000/60000 [==============================] - 7s 122us/step - loss: 0.0397 - acc: 0.9867\n",
            "Epoch 10/10\n",
            "60000/60000 [==============================] - 7s 122us/step - loss: 0.0361 - acc: 0.9881\n"
          ],
          "name": "stdout"
        }
      ]
    },
    {
      "cell_type": "code",
      "metadata": {
        "id": "cef9dwMkj3kG",
        "colab_type": "code",
        "colab": {
          "base_uri": "https://localhost:8080/",
          "height": 34
        },
        "outputId": "3769d395-13d3-4a0b-c93d-237df78e923d"
      },
      "source": [
        "import pandas as pd\n",
        "from keras.models import load_model\n",
        "\n",
        "df = pd.read_csv(\"test.csv\")\n",
        "dataset = df.values\n",
        "\n",
        "model = load_model('final_model.h5')\n",
        "result = []\n",
        "for i in range(28000):\n",
        "  pixels = dataset[i].reshape(1,28,28,1)\n",
        "  pixels = pixels.astype(\"float32\")\n",
        "  pixels = pixels/255.0\n",
        "  r = model.predict_classes(pixels)\n",
        "  result.append(r[0])\n",
        "print(len(result))"
      ],
      "execution_count": 7,
      "outputs": [
        {
          "output_type": "stream",
          "text": [
            "28000\n"
          ],
          "name": "stdout"
        }
      ]
    },
    {
      "cell_type": "code",
      "metadata": {
        "id": "Z2xtqTcFkkM1",
        "colab_type": "code",
        "colab": {}
      },
      "source": [
        "import numpy as np\n",
        "\n",
        "vals = np.round(result)\n",
        "range = np.arange(1,28001)\n",
        "with open(\"output.csv\", \"w\") as f:\n",
        "    f.write(\"ImageId,Label\\n\")\n",
        "    for x, y in zip(range, vals):\n",
        "        f.write(\"{},{}\\n\".format(x, y))\n",
        "f.close()"
      ],
      "execution_count": 0,
      "outputs": []
    }
  ]
}