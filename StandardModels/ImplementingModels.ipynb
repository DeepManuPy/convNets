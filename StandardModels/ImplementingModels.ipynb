{
  "nbformat": 4,
  "nbformat_minor": 0,
  "metadata": {
    "colab": {
      "name": "ImplementingModels.ipynb",
      "version": "0.3.2",
      "provenance": [],
      "include_colab_link": true
    },
    "kernelspec": {
      "name": "python3",
      "display_name": "Python 3"
    },
    "accelerator": "GPU"
  },
  "cells": [
    {
      "cell_type": "markdown",
      "metadata": {
        "id": "view-in-github",
        "colab_type": "text"
      },
      "source": [
        "<a href=\"https://colab.research.google.com/github/DeepManuPy/convNets/blob/master/StandardModels/ImplementingModels.ipynb\" target=\"_parent\"><img src=\"https://colab.research.google.com/assets/colab-badge.svg\" alt=\"Open In Colab\"/></a>"
      ]
    },
    {
      "cell_type": "code",
      "metadata": {
        "id": "e0NtQICWMa6K",
        "colab_type": "code",
        "colab": {}
      },
      "source": [
        "from keras.models import Model\n",
        "from keras.layers import Conv2D,MaxPool2D,Input,Activation\n",
        "from keras.utils import plot_model\n",
        "from keras.layers.merge import concatenate,add"
      ],
      "execution_count": 0,
      "outputs": []
    },
    {
      "cell_type": "code",
      "metadata": {
        "id": "O2bLIF49N6Rd",
        "colab_type": "code",
        "colab": {
          "base_uri": "https://localhost:8080/",
          "height": 728
        },
        "outputId": "e98f25e8-5363-4d25-9470-849673402ae6"
      },
      "source": [
        "def vgg_block(layer_in,n_filters,n_conv):\n",
        "  for _ in range(n_conv):\n",
        "    layer_in = Conv2D(n_filters,(3,3),padding=\"same\",activation=\"relu\")(layer_in)\n",
        "  \n",
        "  layer_in = MaxPool2D((2,2),strides=(2,2))(layer_in)\n",
        "  return layer_in\n",
        "\n",
        "visible = Input(shape=(256,256,3))\n",
        "layer = vgg_block(visible,64,2)\n",
        "layer = vgg_block(layer,128,2)\n",
        "layer = vgg_block(layer,256,4)\n",
        "\n",
        "# Create the Model\n",
        "model = Model(inputs=visible,outputs=layer)\n",
        "\n",
        "model.summary()\n",
        "plot_model(model,show_shapes=True,to_file=\"Multi-VGG-Blocks.png\")"
      ],
      "execution_count": 2,
      "outputs": [
        {
          "output_type": "stream",
          "text": [
            "WARNING: Logging before flag parsing goes to stderr.\n",
            "W0622 17:35:45.622247 140525074704256 deprecation_wrapper.py:119] From /usr/local/lib/python3.6/dist-packages/keras/backend/tensorflow_backend.py:74: The name tf.get_default_graph is deprecated. Please use tf.compat.v1.get_default_graph instead.\n",
            "\n",
            "W0622 17:35:45.669601 140525074704256 deprecation_wrapper.py:119] From /usr/local/lib/python3.6/dist-packages/keras/backend/tensorflow_backend.py:517: The name tf.placeholder is deprecated. Please use tf.compat.v1.placeholder instead.\n",
            "\n",
            "W0622 17:35:45.677539 140525074704256 deprecation_wrapper.py:119] From /usr/local/lib/python3.6/dist-packages/keras/backend/tensorflow_backend.py:4138: The name tf.random_uniform is deprecated. Please use tf.random.uniform instead.\n",
            "\n",
            "W0622 17:35:45.718695 140525074704256 deprecation_wrapper.py:119] From /usr/local/lib/python3.6/dist-packages/keras/backend/tensorflow_backend.py:3976: The name tf.nn.max_pool is deprecated. Please use tf.nn.max_pool2d instead.\n",
            "\n"
          ],
          "name": "stderr"
        },
        {
          "output_type": "stream",
          "text": [
            "_________________________________________________________________\n",
            "Layer (type)                 Output Shape              Param #   \n",
            "=================================================================\n",
            "input_1 (InputLayer)         (None, 256, 256, 3)       0         \n",
            "_________________________________________________________________\n",
            "conv2d_1 (Conv2D)            (None, 256, 256, 64)      1792      \n",
            "_________________________________________________________________\n",
            "conv2d_2 (Conv2D)            (None, 256, 256, 64)      36928     \n",
            "_________________________________________________________________\n",
            "max_pooling2d_1 (MaxPooling2 (None, 128, 128, 64)      0         \n",
            "_________________________________________________________________\n",
            "conv2d_3 (Conv2D)            (None, 128, 128, 128)     73856     \n",
            "_________________________________________________________________\n",
            "conv2d_4 (Conv2D)            (None, 128, 128, 128)     147584    \n",
            "_________________________________________________________________\n",
            "max_pooling2d_2 (MaxPooling2 (None, 64, 64, 128)       0         \n",
            "_________________________________________________________________\n",
            "conv2d_5 (Conv2D)            (None, 64, 64, 256)       295168    \n",
            "_________________________________________________________________\n",
            "conv2d_6 (Conv2D)            (None, 64, 64, 256)       590080    \n",
            "_________________________________________________________________\n",
            "conv2d_7 (Conv2D)            (None, 64, 64, 256)       590080    \n",
            "_________________________________________________________________\n",
            "conv2d_8 (Conv2D)            (None, 64, 64, 256)       590080    \n",
            "_________________________________________________________________\n",
            "max_pooling2d_3 (MaxPooling2 (None, 32, 32, 256)       0         \n",
            "=================================================================\n",
            "Total params: 2,325,568\n",
            "Trainable params: 2,325,568\n",
            "Non-trainable params: 0\n",
            "_________________________________________________________________\n"
          ],
          "name": "stdout"
        }
      ]
    },
    {
      "cell_type": "code",
      "metadata": {
        "id": "A754E3hOQhxL",
        "colab_type": "code",
        "colab": {
          "base_uri": "https://localhost:8080/",
          "height": 380
        },
        "outputId": "6b7f3a4c-88c5-4d72-fbcd-f27f585b28b6"
      },
      "source": [
        "def naive_inception_module(layer_in,f1,f2,f3):\n",
        "  # 1x1 layer\n",
        "  conv1 = Conv2D(f1,(1,1),padding=\"same\",activation=\"relu\")(layer_in)\n",
        "  # 3x3 Conv\n",
        "  conv3 = Conv2D(f2,(3,3),padding=\"same\",activation=\"relu\")(layer_in)\n",
        "  # 5x5 Conv\n",
        "  conv5 = Conv2D(f3,(5,5),padding=\"same\",activation=\"relu\")(layer_in)\n",
        "  # Concatenate the filters\n",
        "  layer_out = concatenate([conv1,conv3,conv5],axis=-1)\n",
        "  layer_out = MaxPool2D((2,2),strides=(2,2))(layer_out)\n",
        "  return layer_out\n",
        "\n",
        "visible = Input(shape=(256,256,3))\n",
        "layer_out = naive_inception_module(visible,128,128,128)\n",
        "model = Model(inputs=visible,outputs=layer_out)\n",
        "\n",
        "model.summary()\n",
        "plot_model(model,show_shapes=True,to_file=\"Naive-Inception_module.png\")"
      ],
      "execution_count": 8,
      "outputs": [
        {
          "output_type": "stream",
          "text": [
            "__________________________________________________________________________________________________\n",
            "Layer (type)                    Output Shape         Param #     Connected to                     \n",
            "==================================================================================================\n",
            "input_5 (InputLayer)            (None, 256, 256, 3)  0                                            \n",
            "__________________________________________________________________________________________________\n",
            "conv2d_18 (Conv2D)              (None, 256, 256, 128 512         input_5[0][0]                    \n",
            "__________________________________________________________________________________________________\n",
            "conv2d_19 (Conv2D)              (None, 256, 256, 128 3584        input_5[0][0]                    \n",
            "__________________________________________________________________________________________________\n",
            "conv2d_20 (Conv2D)              (None, 256, 256, 128 9728        input_5[0][0]                    \n",
            "__________________________________________________________________________________________________\n",
            "concatenate_3 (Concatenate)     (None, 256, 256, 384 0           conv2d_18[0][0]                  \n",
            "                                                                 conv2d_19[0][0]                  \n",
            "                                                                 conv2d_20[0][0]                  \n",
            "__________________________________________________________________________________________________\n",
            "max_pooling2d_6 (MaxPooling2D)  (None, 128, 128, 384 0           concatenate_3[0][0]              \n",
            "==================================================================================================\n",
            "Total params: 13,824\n",
            "Trainable params: 13,824\n",
            "Non-trainable params: 0\n",
            "__________________________________________________________________________________________________\n"
          ],
          "name": "stdout"
        }
      ]
    },
    {
      "cell_type": "code",
      "metadata": {
        "id": "RKZv_k_UWrXh",
        "colab_type": "code",
        "colab": {
          "base_uri": "https://localhost:8080/",
          "height": 363
        },
        "outputId": "ff280fe2-4911-4f7f-ca66-c732f6d6c6f6"
      },
      "source": [
        "def residual_module(layer_in,n_filters):\n",
        "  merge_input = layer_in\n",
        "  if layer_in.shape[-1] != n_filters:\n",
        "    merge_input = Conv2D(n_filters,(1,1),padding=\"same\",activation=\"relu\")(layer_in)\n",
        "  conv1 = Conv2D(n_filters,(3,3),padding=\"same\",activation=\"relu\")(layer_in)\n",
        "  conv2 = Conv2D(n_filters,(3,3),padding=\"same\",activation=\"linear\")(conv1)\n",
        "  layer_out = add([conv2,merge_input])\n",
        "  layer_out = Activation(\"relu\")(layer_out)\n",
        "  return layer_out\n",
        "\n",
        "visible = Input(shape=(256,256,3))\n",
        "layer = residual_module(visible,64)\n",
        "model = Model(inputs=visible,outputs=layer)\n",
        "\n",
        "model.summary()\n",
        "plot_model(model,show_shapes=True,to_file=\"Residual Module.png\")\n"
      ],
      "execution_count": 7,
      "outputs": [
        {
          "output_type": "stream",
          "text": [
            "__________________________________________________________________________________________________\n",
            "Layer (type)                    Output Shape         Param #     Connected to                     \n",
            "==================================================================================================\n",
            "input_4 (InputLayer)            (None, 256, 256, 3)  0                                            \n",
            "__________________________________________________________________________________________________\n",
            "conv2d_16 (Conv2D)              (None, 256, 256, 64) 1792        input_4[0][0]                    \n",
            "__________________________________________________________________________________________________\n",
            "conv2d_17 (Conv2D)              (None, 256, 256, 64) 36928       conv2d_16[0][0]                  \n",
            "__________________________________________________________________________________________________\n",
            "conv2d_15 (Conv2D)              (None, 256, 256, 64) 256         input_4[0][0]                    \n",
            "__________________________________________________________________________________________________\n",
            "add_1 (Add)                     (None, 256, 256, 64) 0           conv2d_17[0][0]                  \n",
            "                                                                 conv2d_15[0][0]                  \n",
            "__________________________________________________________________________________________________\n",
            "activation_1 (Activation)       (None, 256, 256, 64) 0           add_1[0][0]                      \n",
            "==================================================================================================\n",
            "Total params: 38,976\n",
            "Trainable params: 38,976\n",
            "Non-trainable params: 0\n",
            "__________________________________________________________________________________________________\n"
          ],
          "name": "stdout"
        }
      ]
    }
  ]
}